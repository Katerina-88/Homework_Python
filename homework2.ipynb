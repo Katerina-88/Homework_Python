{
 "cells": [
  {
   "cell_type": "code",
   "execution_count": 1,
   "metadata": {},
   "outputs": [],
   "source": [
    "## Задание 1"
   ]
  },
  {
   "cell_type": "code",
   "execution_count": 92,
   "metadata": {},
   "outputs": [
    {
     "name": "stdout",
     "output_type": "stream",
     "text": [
      "t\n"
     ]
    }
   ],
   "source": [
    "word = 'testing'\n",
    "\n",
    "a = len(word) # задаём переменную длины слова \n",
    "b = len(word)/2 # 1/2 слова \n",
    "\n",
    "if a % 2 == 0: # если а - чётное \n",
    "    print(word[int(b)-1:int(b)+1])\n",
    "elif a % 2 != 0: # если а - нечётное \n",
    "    print(word[int(b)])\n",
    "    "
   ]
  },
  {
   "cell_type": "code",
   "execution_count": null,
   "metadata": {},
   "outputs": [],
   "source": [
    "## Задание 2"
   ]
  },
  {
   "cell_type": "code",
   "execution_count": 93,
   "metadata": {
    "scrolled": true
   },
   "outputs": [
    {
     "name": "stdout",
     "output_type": "stream",
     "text": [
      "введите цифру2\n",
      "введите цифру3\n",
      "введите цифру4\n",
      "введите цифру0\n",
      "результат 9\n"
     ]
    }
   ],
   "source": [
    "a = int(input('введите цифру'))\n",
    "s = 0\n",
    "\n",
    "while a != 0:\n",
    "    s += a\n",
    "    a = int(input('введите цифру'))\n",
    "print('результат',s)\n"
   ]
  },
  {
   "cell_type": "code",
   "execution_count": null,
   "metadata": {},
   "outputs": [],
   "source": [
    "## Задание 3"
   ]
  },
  {
   "cell_type": "code",
   "execution_count": 95,
   "metadata": {},
   "outputs": [
    {
     "name": "stdout",
     "output_type": "stream",
     "text": [
      "Внимание, кто-то может остаться без пары!\n"
     ]
    }
   ],
   "source": [
    "boys = ['Peter', 'Alex', 'John', 'Arthur', 'Richard', 'Greg']\n",
    "girls = ['Kate', 'Liza', 'Kira', 'Emma', 'Trisha']\n",
    "\n",
    "ideal_pair = zip(sorted(boys), sorted(girls)) # соединяем вместе два списка, предварительно отсортировав по алфавиту \n",
    "\n",
    "if len(sorted(boys)) == len(sorted(girls)):\n",
    "    print('Идеальные пары :')\n",
    "    for pair in ideal_pair:\n",
    "        print(f'{pair[0]} и {pair[1]}')#print(' и '.join(pair))\n",
    "else:\n",
    "    print('Внимание, кто-то может остаться без пары!')\n"
   ]
  },
  {
   "cell_type": "code",
   "execution_count": 97,
   "metadata": {},
   "outputs": [
    {
     "name": "stdout",
     "output_type": "stream",
     "text": [
      "Идеальные пары :\n",
      "Alex и Emma\n",
      "Arthur и Kate\n",
      "John и Kira\n",
      "Peter и Liza\n",
      "Richard и Trisha\n"
     ]
    }
   ],
   "source": [
    "boys = ['Peter', 'Alex', 'John', 'Arthur', 'Richard']\n",
    "girls = ['Kate', 'Liza', 'Kira', 'Emma', 'Trisha']\n",
    "\n",
    "ideal_pair = zip(sorted(boys), sorted(girls))\n",
    "\n",
    "if len(sorted(boys)) == len(sorted(girls)):\n",
    "    print('Идеальные пары :')\n",
    "    for pair in ideal_pair:\n",
    "        print(pair[0],'и',pair[1])# решение без строки f\n",
    "else:\n",
    "    print('Кто-то может остаться без пары!')\n"
   ]
  },
  {
   "cell_type": "code",
   "execution_count": null,
   "metadata": {},
   "outputs": [],
   "source": [
    "## Задача 4"
   ]
  },
  {
   "cell_type": "code",
   "execution_count": 106,
   "metadata": {},
   "outputs": [
    {
     "name": "stdout",
     "output_type": "stream",
     "text": [
      "Средняя температура по цельсию:\n",
      "Thailand - 23.86 C\n",
      "Germany - 13.8 C\n",
      "Russia - 3.71 C\n",
      "Poland - 12.0 C\n"
     ]
    }
   ],
   "source": [
    "countries_temperature = [\n",
    "    ['Thailand', [75.2, 77, 78.8, 73.4, 68, 75.2, 77]],\n",
    "    ['Germany', [57.2, 55.4, 59, 59, 53.6]],\n",
    "    ['Russia', [35.6, 37.4, 39.2, 41, 42.8, 39.2, 35.6]],\n",
    "    ['Poland', [50, 50, 53.6, 57.2, 55.4, 55.4]]\n",
    "]\n",
    "\n",
    "summa = 0.0\n",
    "temp_avg = 0.0\n",
    "print('Средняя температура по цельсию:')\n",
    "for country in countries_temperature:\n",
    "        summa = sum(country[1])\n",
    "        temp_avg = summa/len(country[1])\n",
    "        temp_in_celc = round((temp_avg-32)*5/9,2)\n",
    "        print(country[0], '-' , temp_in_celc, 'C')\n",
    "\n"
   ]
  },
  {
   "cell_type": "code",
   "execution_count": 1,
   "metadata": {},
   "outputs": [],
   "source": [
    "## Задание 5"
   ]
  },
  {
   "cell_type": "code",
   "execution_count": 109,
   "metadata": {},
   "outputs": [
    {
     "name": "stdout",
     "output_type": "stream",
     "text": [
      "Среднее кол-во просмотров на уникального пользователя: 145.33\n"
     ]
    }
   ],
   "source": [
    "# создать пустой список, где будут уникальные пользователи \n",
    "# посчитать отношение суммы всех просмотров к количеству уникальных пользователей (среднее значение просмотров на пользователя)\n",
    "\n",
    "stream = [\n",
    "'2018-01-01,user100,150',\n",
    "'2018-01-07,user99,205',\n",
    "'2018-03-29,user1001,81']\n",
    "\n",
    "views = 0\n",
    "for el in stream:\n",
    "    split_list = el.split(',')# преобразуем строки в список путём цикла \n",
    "    views += int(split_list[2])\n",
    "    \n",
    "unique = [] # создаем пустой список, чтобы наполнить его уникальными пользователями\n",
    "for i in split_list:\n",
    "    if i not in unique:\n",
    "        unique.append(i)\n",
    "avg_per_user = round(views/len(unique),2) # найдем среднее значение просмотров на пользователя\n",
    "print('Среднее кол-во просмотров на уникального пользователя:', avg_per_user)\n",
    "        \n",
    "              "
   ]
  },
  {
   "cell_type": "code",
   "execution_count": null,
   "metadata": {},
   "outputs": [],
   "source": []
  }
 ],
 "metadata": {
  "kernelspec": {
   "display_name": "Python 3",
   "language": "python",
   "name": "python3"
  },
  "language_info": {
   "codemirror_mode": {
    "name": "ipython",
    "version": 3
   },
   "file_extension": ".py",
   "mimetype": "text/x-python",
   "name": "python",
   "nbconvert_exporter": "python",
   "pygments_lexer": "ipython3",
   "version": "3.8.5"
  }
 },
 "nbformat": 4,
 "nbformat_minor": 4
}
