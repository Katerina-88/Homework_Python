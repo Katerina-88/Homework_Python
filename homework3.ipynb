{
 "cells": [
  {
   "cell_type": "code",
   "execution_count": 1,
   "metadata": {},
   "outputs": [],
   "source": [
    "# Задание 1. Вывести множество уникальных гео-меток всех пользователей"
   ]
  },
  {
   "cell_type": "code",
   "execution_count": 124,
   "metadata": {},
   "outputs": [
    {
     "name": "stdout",
     "output_type": "stream",
     "text": [
      "{98, 35, 15, 213, 54, 119}\n"
     ]
    }
   ],
   "source": [
    "ids = {'user1': [213, 213, 213, 15, 213],\n",
    "'user2': [54, 54, 119, 119, 119],\n",
    "'user3': [213, 98, 98, 35]}\n",
    "\n",
    "list(ids.items()) # преобразуем словарь в список, чтобы далее работать с ним в цикле \n",
    "\n",
    "unique = list() # создаем пустой список \n",
    "for value in ids.values():\n",
    "    if type(value) == list:\n",
    "        unique += value\n",
    "    else:\n",
    "        unique.append(value)\n",
    "\n",
    "print(set(unique)) # выводим уникальные значения в множестве \n",
    "\n",
    "\n"
   ]
  },
  {
   "cell_type": "code",
   "execution_count": 49,
   "metadata": {},
   "outputs": [
    {
     "name": "stdout",
     "output_type": "stream",
     "text": [
      "{98, 35, 15, 213, 54, 119}\n"
     ]
    }
   ],
   "source": [
    "## Задача 1 (способ 2)\n",
    "\n",
    "ids = {'user1': [213, 213, 213, 15, 213],\n",
    "'user2': [54, 54, 119, 119, 119],\n",
    "'user3': [213, 98, 98, 35]}\n",
    "\n",
    "list(ids.items())\n",
    "\n",
    "ids2 = set() # создаем множество \n",
    "for value in ids.values():\n",
    "    getattr(ids2, 'update' if isinstance(value, list) else 'add')(value) # получаем значение атрибута объекта по его имени ч/з функцию getattr\n",
    "                                                                         # if isinstance - проверяем принадлежность value к list\n",
    "print(ids2)\n",
    "    "
   ]
  },
  {
   "cell_type": "code",
   "execution_count": null,
   "metadata": {},
   "outputs": [],
   "source": [
    "# Задание 2 (вывести на экран распределение количества слов в запросах в требуемом виде, в %)"
   ]
  },
  {
   "cell_type": "code",
   "execution_count": 112,
   "metadata": {
    "scrolled": true
   },
   "outputs": [
    {
     "name": "stdout",
     "output_type": "stream",
     "text": [
      "Поисковых запросов, содержащих 3 слов(а): 57.14 %\n",
      "Поисковых запросов, содержащих 2 слов(а): 42.86 %\n"
     ]
    }
   ],
   "source": [
    "queries = [\n",
    "'смотреть сериалы онлайн',\n",
    "'новости спорта',\n",
    "'афиша кино',\n",
    "'курс доллара',\n",
    "'сериалы этим летом',\n",
    "'курс по питону',\n",
    "'сериалы про спорт',\n",
    "]\n",
    "\n",
    "glossary = {} # создаем пустой словарь\n",
    "\n",
    "for query in queries:\n",
    "    words = query.split(' ') # нужно каждую строку списка перевести в столбец, чтобы посчитать кол-во слов \n",
    "    #print(words)    \n",
    "    \n",
    "    if len(words) in glossary.keys():\n",
    "        glossary[len(words)] += 1\n",
    "    else:\n",
    "        glossary.update({len(words): 1})\n",
    "\n",
    "for key, value in glossary.items():\n",
    "    percentage = round((value / len(queries)) * 100, 2)\n",
    "    print(f'Поисковых запросов, содержащих {key} слов(а): {percentage} %')\n",
    "\n"
   ]
  },
  {
   "cell_type": "code",
   "execution_count": null,
   "metadata": {},
   "outputs": [],
   "source": [
    "# Задача 3 (добавить в словарь значение ROI)"
   ]
  },
  {
   "cell_type": "code",
   "execution_count": 56,
   "metadata": {},
   "outputs": [
    {
     "name": "stdout",
     "output_type": "stream",
     "text": [
      "{'adwords': {'ROI': 2.94, 'cost': 34, 'revenue': 35},\n",
      " 'facebook': {'ROI': -6.36, 'cost': 110, 'revenue': 103},\n",
      " 'twitter': {'ROI': -54.17, 'cost': 24, 'revenue': 11},\n",
      " 'vk': {'ROI': 5.1, 'cost': 98, 'revenue': 103},\n",
      " 'yandex': {'ROI': 16.99, 'cost': 153, 'revenue': 179}}\n"
     ]
    }
   ],
   "source": [
    "results = {\n",
    "'vk': {'revenue': 103, 'cost': 98},\n",
    "'yandex': {'revenue': 179, 'cost': 153},\n",
    "'facebook': {'revenue': 103, 'cost': 110},\n",
    "'adwords': {'revenue': 35, 'cost': 34},\n",
    "'twitter': {'revenue': 11, 'cost': 24},\n",
    "}\n",
    "# revenue (доход от вложений)\n",
    "for val in list(results.values()):\n",
    "    # print(val['revenue'])\n",
    "    #print(val['cost'])\n",
    "    val['ROI'] = round((val['revenue'] / val['cost'] - 1)*100,2) # вычисляем значение ROI по формуле \n",
    "    \n",
    "from pprint import pprint # с помошью pprint выводим наш словарь в столбец \n",
    "pprint(results)\n",
    "\n"
   ]
  },
  {
   "cell_type": "code",
   "execution_count": null,
   "metadata": {},
   "outputs": [],
   "source": [
    "# Задание 4 (Максимальный объем продаж на рекламном канале: vk)"
   ]
  },
  {
   "cell_type": "code",
   "execution_count": 123,
   "metadata": {},
   "outputs": [
    {
     "name": "stdout",
     "output_type": "stream",
     "text": [
      "Результат: Максимальный объем продаж на рекламном канале: vk\n"
     ]
    }
   ],
   "source": [
    "stats = {'facebook': 55, 'yandex': 115, 'vk': 120, 'google': 99, 'email': 42, 'ok': 98}\n",
    "#print(stats.items())\n",
    "\n",
    "max_value = max(stats.values()) # задаем переменную с макс.значением и чему она равна \n",
    "for k,v in stats.items():\n",
    "    if v == max_value: # если переменная v равна max_value, тогда выведи ключ для этого макс.значения\n",
    "        print('Результат:', 'Максимальный объем продаж на рекламном канале:', k)\n"
   ]
  },
  {
   "cell_type": "code",
   "execution_count": 129,
   "metadata": {},
   "outputs": [
    {
     "name": "stdout",
     "output_type": "stream",
     "text": [
      "Результат: Максимальный объем продаж на рекламном канале: google\n"
     ]
    }
   ],
   "source": [
    "# Задание 4 (способ 2)\n",
    "\n",
    "stats = {'facebook': 55, 'yandex': 115, 'vk': 120, 'google': 250, 'email': 42, 'ok': 98}\n",
    "\n",
    "keymax = max(stats, key=stats.get) # при помощи .get\n",
    "print('Результат:', 'Максимальный объем продаж на рекламном канале:', keymax)"
   ]
  },
  {
   "cell_type": "code",
   "execution_count": null,
   "metadata": {},
   "outputs": [],
   "source": []
  }
 ],
 "metadata": {
  "kernelspec": {
   "display_name": "Python 3",
   "language": "python",
   "name": "python3"
  },
  "language_info": {
   "codemirror_mode": {
    "name": "ipython",
    "version": 3
   },
   "file_extension": ".py",
   "mimetype": "text/x-python",
   "name": "python",
   "nbconvert_exporter": "python",
   "pygments_lexer": "ipython3",
   "version": "3.8.5"
  }
 },
 "nbformat": 4,
 "nbformat_minor": 4
}
