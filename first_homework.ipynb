{
 "cells": [
  {
   "cell_type": "code",
   "execution_count": 2,
   "metadata": {},
   "outputs": [],
   "source": [
    "## Задание 1"
   ]
  },
  {
   "cell_type": "code",
   "execution_count": 1,
   "metadata": {},
   "outputs": [
    {
     "name": "stdout",
     "output_type": "stream",
     "text": [
      "Фраза 1 длиннее фразы 2\n"
     ]
    }
   ],
   "source": [
    "len_phrase_1 = len('Насколько проще было бы писать программы, если бы не заказчики')\n",
    "len_phrase_2 = len('640Кб должно хватить для любых задач. Билл Гейтс (по легенде)')\n",
    "\n",
    "if len_phrase_1 > len_phrase_2:\n",
    "    print ('Фраза 1 длиннее фразы 2')\n",
    "elif len_phrase_2 > len_phrase_1:\n",
    "    print ('Фраза 2 длиннее фразы 1')\n",
    "else:\n",
    "    print ('Фразы равной длины')"
   ]
  },
  {
   "cell_type": "code",
   "execution_count": 6,
   "metadata": {},
   "outputs": [],
   "source": [
    "## Задание 2"
   ]
  },
  {
   "cell_type": "code",
   "execution_count": null,
   "metadata": {},
   "outputs": [],
   "source": [
    "year = 2021\n",
    "\n",
    "if year == 2020:\n",
    "    print ('високосный год')\n",
    "elif year <= 2019:\n",
    "    print ('обычный год')\n",
    "else:\n",
    "    print ('ничего не пиши')\n"
   ]
  },
  {
   "cell_type": "code",
   "execution_count": null,
   "metadata": {},
   "outputs": [],
   "source": [
    "## Задание 2"
   ]
  },
  {
   "cell_type": "code",
   "execution_count": null,
   "metadata": {},
   "outputs": [],
   "source": [
    "year = 2024\n",
    "## разобравшись в теме определения високосного года, подумала, что логично будет такой код тоже написать. \n",
    "## Не знаю, насколько в данном задании подразумевается решение именно таким способом \n",
    "\n",
    "if year % 400 == 0:\n",
    "    print('Високосный год')\n",
    "elif year % 100 == 0:\n",
    "    print('Високосный год')\n",
    "elif year % 4 == 0:\n",
    "    print('Високосный год')\n",
    "else:\n",
    "    print('Обычный год')\n"
   ]
  },
  {
   "cell_type": "code",
   "execution_count": 24,
   "metadata": {},
   "outputs": [],
   "source": [
    "## Задание 3"
   ]
  },
  {
   "cell_type": "code",
   "execution_count": 9,
   "metadata": {
    "scrolled": true
   },
   "outputs": [
    {
     "name": "stdout",
     "output_type": "stream",
     "text": [
      "введите дату12\n",
      "введите месяц5\n",
      "Вы принадлежите к другому знаку\n"
     ]
    }
   ],
   "source": [
    "## Написала на примере 3-х знаков\n",
    "\n",
    "date = int(input('введите дату'))\n",
    "month = int(input('введите месяц'))\n",
    "\n",
    "if (date >= 21 and date <=31 and month == 8) or (date > 1 and date <=21 and month == 9):\n",
    "    print ('Ваш знак Дева')\n",
    "elif (date >= 21 and date <=31 and month == 10) or (date > 1 and date <=21 and month == 11):\n",
    "    print ('Ваш знак Скорпион')\n",
    "elif (date >= 21 and date <=31 and month == 11) or (date > 1 and date <=21 and month == 12):\n",
    "    print ('Ваш знак Стрелец')\n",
    "else: \n",
    "    print ('Вы принадлежите к другому знаку')\n",
    "    "
   ]
  },
  {
   "cell_type": "code",
   "execution_count": 5,
   "metadata": {},
   "outputs": [],
   "source": [
    "## Задание 4"
   ]
  },
  {
   "cell_type": "code",
   "execution_count": 10,
   "metadata": {},
   "outputs": [
    {
     "name": "stdout",
     "output_type": "stream",
     "text": [
      "Стандартная коробка №3\n"
     ]
    }
   ],
   "source": [
    "width = 15\n",
    "length = 50\n",
    "height = 15\n",
    "\n",
    "if length > 200:\n",
    "    print ('Ищите упаковку для лыж')\n",
    "elif width < 15 and length < 15 and height < 15:\n",
    "    print ('Коробка №1')\n",
    "elif width < 50 and length < 50 and height < 50:\n",
    "    print ('Коробка №2')\n",
    "else:\n",
    "    print ('Стандартная коробка №3')"
   ]
  },
  {
   "cell_type": "code",
   "execution_count": null,
   "metadata": {},
   "outputs": [],
   "source": [
    "## Задание 5 (дополнительное)"
   ]
  },
  {
   "cell_type": "code",
   "execution_count": null,
   "metadata": {
    "scrolled": true
   },
   "outputs": [],
   "source": [
    "data = list(map(int, input()))\n",
    "num = len(data) - 3\n",
    "\n",
    "if sum(data[:num]) == sum(data[num:]):\n",
    "    print ('счастливый билет')\n",
    "else:\n",
    "    print ('несчастливый билет')"
   ]
  },
  {
   "cell_type": "code",
   "execution_count": null,
   "metadata": {},
   "outputs": [],
   "source": [
    "## Задание 6 "
   ]
  },
  {
   "cell_type": "code",
   "execution_count": 14,
   "metadata": {},
   "outputs": [
    {
     "name": "stdout",
     "output_type": "stream",
     "text": [
      "введите название фигуры =треугольник\n",
      "введите сторону a =15\n",
      "введите сторону b =15\n",
      "введите сторону c =15\n",
      "площадь треугольника: 2809772.000418528\n"
     ]
    }
   ],
   "source": [
    "import math\n",
    "\n",
    "figure_type = input('введите название фигуры =')\n",
    "\n",
    "if figure_type =='круг':\n",
    "    r = float(input('введите радиус r ='))\n",
    "    circle_area = math.pi*(r**2)\n",
    "    print (f'площадь круга: {circle_area}')    \n",
    "elif figure_type == 'треугольник':\n",
    "    a = float(input('введите сторону a ='))\n",
    "    b = float(input('введите сторону b ='))\n",
    "    c = float(input('введите сторону c ='))\n",
    "    p = (a*b*c)/2\n",
    "    triangle_area = math.sqrt((p*(p-a)*(p-b)*(p-c)))\n",
    "    print (f'площадь треугольника: {triangle_area}')\n",
    "elif figure_type == 'прямоугольник':\n",
    "    a = float(input('введите сторону a ='))\n",
    "    b = float(input('введите сторону b ='))\n",
    "    restangle_area = a*b\n",
    "    print (f'площадь прямоугольника: {restangle_area}')\n"
   ]
  },
  {
   "cell_type": "code",
   "execution_count": null,
   "metadata": {},
   "outputs": [],
   "source": []
  },
  {
   "cell_type": "code",
   "execution_count": null,
   "metadata": {},
   "outputs": [],
   "source": []
  }
 ],
 "metadata": {
  "kernelspec": {
   "display_name": "Python 3",
   "language": "python",
   "name": "python3"
  },
  "language_info": {
   "codemirror_mode": {
    "name": "ipython",
    "version": 3
   },
   "file_extension": ".py",
   "mimetype": "text/x-python",
   "name": "python",
   "nbconvert_exporter": "python",
   "pygments_lexer": "ipython3",
   "version": "3.8.5"
  }
 },
 "nbformat": 4,
 "nbformat_minor": 4
}
