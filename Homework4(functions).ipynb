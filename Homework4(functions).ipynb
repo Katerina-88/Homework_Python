{
 "cells": [
  {
   "cell_type": "markdown",
   "metadata": {},
   "source": [
    "# Домашнее задание к лекции \"Функции\"\n",
    "#Вам нужно помочь секретарю автоматизировать работу. \n",
    "#Для этого нужно написать программу, которая будет на основе хранимых данных исполнять пользовательские команды."
   ]
  },
  {
   "cell_type": "code",
   "execution_count": null,
   "metadata": {},
   "outputs": [],
   "source": [
    "# Задание 1 Пункт 1. Пользователь по команде “p” может узнать владельца документа по его номеру"
   ]
  },
  {
   "cell_type": "code",
   "execution_count": 121,
   "metadata": {},
   "outputs": [
    {
     "name": "stdout",
     "output_type": "stream",
     "text": [
      "Введите номер документа:10006\n",
      "Владелец документа 10006: Аристарх Павлов\n",
      "None\n"
     ]
    }
   ],
   "source": [
    "documents = [\n",
    "{'type': 'passport', 'number': '2207 876234', 'name': 'Василий Гупкин'},\n",
    "{'type': 'invoice', 'number': '11-2', 'name': 'Геннадий Покемонов'},\n",
    "{'type': 'insurance', 'number': '10006', 'name': 'Аристарх Павлов'}\n",
    "]\n",
    "\n",
    "# создать поле для ввода значения\n",
    "# для номера док-та введите \"номер документа\"\n",
    "# если такой номер есть а базе, выведи ФИО владельца \n",
    "\n",
    "def get_doc_owner(doc_number):\n",
    "    for dic in documents:\n",
    "        if 'number' in dic.keys() and dic['number'] == doc_number:\n",
    "            return dic['name']\n",
    "    return None \n",
    "        \n",
    "def get_doc_owner_interactive():\n",
    "    doc_number = input('Введите номер документа:').strip()\n",
    "    doc_owner_name = get_doc_owner(doc_number=doc_number)\n",
    "    if doc_owner_name:\n",
    "        print(f'Владелец документа {doc_number}: {doc_owner_name}')\n",
    "    else:\n",
    "        print(f'Документ {doc_number} не найден в базе')\n",
    "        \n",
    "print(get_doc_owner_interactive())"
   ]
  },
  {
   "cell_type": "code",
   "execution_count": null,
   "metadata": {},
   "outputs": [],
   "source": [
    "# Пункт 2. Пользователь по команде “s” может по номеру документа узнать на какой полке хранится документ"
   ]
  },
  {
   "cell_type": "code",
   "execution_count": 116,
   "metadata": {
    "scrolled": true
   },
   "outputs": [
    {
     "name": "stdout",
     "output_type": "stream",
     "text": [
      "Введите номер документа: 10006\n",
      "2\n"
     ]
    }
   ],
   "source": [
    "# рабочий код (вариант 1)\n",
    "\n",
    "directories = {\n",
    "'1': ['2207 876234', '11-2'],\n",
    "'2': ['10006'],\n",
    "'3': []\n",
    "}\n",
    "\n",
    "def shelf_num():\n",
    "    doc_number = input('Введите номер документа: ')\n",
    "    for shelf in directories:\n",
    "        if doc_number in directories[shelf]: # проверка условия. если номер документа лежит на полке\n",
    "            return shelf # выведи номер полки\n",
    "    else:\n",
    "            print('Документ не найден') # иначе - документ не найден \n",
    "\n",
    "print(shelf_num())"
   ]
  },
  {
   "cell_type": "code",
   "execution_count": 117,
   "metadata": {},
   "outputs": [
    {
     "name": "stdout",
     "output_type": "stream",
     "text": [
      "Введите номер документа: 11-2\n",
      "1\n"
     ]
    }
   ],
   "source": [
    "# рабочий код (вариант 2, указан в цикле while) \n",
    "\n",
    "directories = {\n",
    "'1': ['2207 876234', '11-2'],\n",
    "'2': ['10006'],\n",
    "'3': []\n",
    "}\n",
    "\n",
    "def get_shelf_num():\n",
    "    doc_number = input('Введите номер документа: ')\n",
    "    for key, value in directories.items():\n",
    "        for i in value:\n",
    "            if doc_number == i:\n",
    "                return key\n",
    "    return 'Документ не найден в базе'\n",
    "\n",
    "print(get_shelf_num())"
   ]
  },
  {
   "cell_type": "code",
   "execution_count": 50,
   "metadata": {},
   "outputs": [],
   "source": [
    "# Пункт 3. Пользователь по команде “l” может увидеть полную информацию по всем документам\n",
    "#Результат:\n",
    "#№: 2207 876234, тип: passport, владелец: Василий Гупкин, полка хранения: 1"
   ]
  },
  {
   "cell_type": "code",
   "execution_count": 163,
   "metadata": {
    "scrolled": true
   },
   "outputs": [
    {
     "name": "stdout",
     "output_type": "stream",
     "text": [
      "№: 2207 876234, тип: passport, владелец: Василий Гупкин, полка хранения: 1\n",
      "№: 11-2, тип: invoice, владелец: Геннадий Покемонов, полка хранения: 1\n",
      "№: 10006, тип: insurance, владелец: Аристарх Павлов, полка хранения: 2\n",
      "None\n"
     ]
    }
   ],
   "source": [
    "documents = [\n",
    "{'type': 'passport', 'number': '2207 876234', 'name': 'Василий Гупкин'},\n",
    "{'type': 'invoice', 'number': '11-2', 'name': 'Геннадий Покемонов'},\n",
    "{'type': 'insurance', 'number': '10006', 'name': 'Аристарх Павлов'}\n",
    "]\n",
    "\n",
    "directories = {\n",
    "'1': ['2207 876234', '11-2'],\n",
    "'2': ['10006'],\n",
    "'3': []\n",
    "}\n",
    "\n",
    "def people_list():\n",
    "    for person in documents:\n",
    "        tip = person['type']\n",
    "        number = person['number']\n",
    "        name = person['name']\n",
    "        \n",
    "        for shelf, doc_list in directories.items():\n",
    "            if number in doc_list:\n",
    "                print(f'№: {number}, тип: {tip}, владелец: {name}, полка хранения: {shelf}')# через f строку выводим нужный рез-т\n",
    "\n",
    "print(people_list())"
   ]
  },
  {
   "cell_type": "code",
   "execution_count": 123,
   "metadata": {
    "scrolled": true
   },
   "outputs": [
    {
     "name": "stdout",
     "output_type": "stream",
     "text": [
      "Введите номер полки: 10\n",
      "Полка добавлена. Текущий перечень полок: 1, 2, 3, 10\n",
      "None\n"
     ]
    }
   ],
   "source": [
    "# Пункт 4. Пользователь по команде “as” может добавить новую полку\n",
    "\n",
    "# 2.перечень полок, на которых хранятся документы (если документ есть в documents, то он обязательно должен быть и в directories)\n",
    "directories = {\n",
    "'1': ['2207 876234', '11-2'],\n",
    "'2': ['10006'],\n",
    "'3': []\n",
    "}\n",
    "\n",
    "def add_new_shelf():\n",
    "    number = input('Введите номер полки: ')\n",
    "    for shelf in directories.copy().keys(): \n",
    "        if shelf == number: #если номер полки равен введённому номеру, то такая полка существует\n",
    "            print('Такая полка уже существует. Текущий перечень полок: '+', '.join(directories.keys()))\n",
    "                \n",
    "        elif number not in directories.keys():# если введённого номера в списке нет,\n",
    "            directories[number] = [] #тогда добавляем полку\n",
    "            print('Полка добавлена. Текущий перечень полок: '+', '.join(directories.keys()))\n",
    "\n",
    "print(add_new_shelf())\n",
    "              "
   ]
  },
  {
   "cell_type": "code",
   "execution_count": 125,
   "metadata": {},
   "outputs": [
    {
     "name": "stdout",
     "output_type": "stream",
     "text": [
      "Введите номер полки: 1\n",
      "На полке есть документы, удалите их перед удалением полки.Текущий перечень полок: 1, 2, 3\n",
      "None\n"
     ]
    }
   ],
   "source": [
    "# Пункт 5. Пользователь по команде “ds” может удалить существующую полку из данных (только если она пустая)\n",
    "# нужно удалить полку 3, т.к на ней нет документов \n",
    "\n",
    "directories = {\n",
    "'1': ['2207 876234', '11-2'],\n",
    "'2': ['10006'],\n",
    "'3': []\n",
    "}\n",
    "\n",
    "def del_shelf():\n",
    "    shelf_num = input('Введите номер полки: ')\n",
    "    if shelf_num not in directories.keys():\n",
    "        print('Такой полки не существует. Текущий перечень полок: '+', '.join(directories.keys()))\n",
    "    elif len(directories[shelf_num]) > 0:\n",
    "        print('На полке есть документы, удалите их перед удалением полки.Текущий перечень полок: '+', '.join(directories.keys()))\n",
    "    else:\n",
    "        directories.pop(shelf_num)\n",
    "        print('Полка удалена. Текущий перечень полок: '+', '.join(directories.keys()))\n",
    "\n",
    "print(del_shelf())\n",
    "        "
   ]
  },
  {
   "cell_type": "code",
   "execution_count": 133,
   "metadata": {},
   "outputs": [
    {
     "name": "stdout",
     "output_type": "stream",
     "text": [
      "Введите номер документа: 456321\n",
      "Введите тип документа: passport\n",
      "Введите владельца документа: Oleg Smagin\n",
      "Введите номер полки: 4\n",
      "Такой полки не существует. Добавьте новую полку\n",
      "None\n"
     ]
    }
   ],
   "source": [
    "# Задание 2 (необязательное) Пункт 1. Пользователь по команде “ad” может добавить новый документ в данные\n",
    "# номер док-та/тип док-та/имя владельца/номер полки\n",
    "\n",
    "documents = [\n",
    "{'type': 'passport', 'number': '2207 876234', 'name': 'Василий Гупкин'},\n",
    "{'type': 'invoice', 'number': '11-2', 'name': 'Геннадий Покемонов'},\n",
    "{'type': 'insurance', 'number': '10006', 'name': 'Аристарх Павлов'}\n",
    "]\n",
    "\n",
    "directories = {\n",
    "'1': ['2207 876234', '11-2'],\n",
    "'2': ['10006'],\n",
    "'3': []\n",
    "}\n",
    "   \n",
    "def add_new_doc():\n",
    "    doc_number = input('Введите номер документа: ')\n",
    "    doc_type = input('Введите тип документа: ')\n",
    "    doc_owner = input('Введите владельца документа: ')\n",
    "    shelf_num  = input('Введите номер полки: ')\n",
    "    if int(shelf_num) == 1 or int(shelf_num) == 2 or int(shelf_num) == 3:\n",
    "        documents.append({'type': doc_type, 'number': doc_number, 'name': doc_owner})\n",
    "        directories[shelf_num].append(shelf_num)\n",
    "        print('Документ успешно добавлен. Текущий перечень документов:')\n",
    "        print(f'№: {doc_number}, тип: {doc_type}, владелец: {doc_owner}, полка хранения: {shelf_num}', people_list())\n",
    "                \n",
    "    elif shelf_num not in directories:\n",
    "        print('Такой полки не существует. Добавьте новую полку')\n",
    "\n",
    "print(add_new_doc())\n",
    "    "
   ]
  },
  {
   "cell_type": "code",
   "execution_count": 162,
   "metadata": {},
   "outputs": [
    {
     "name": "stdout",
     "output_type": "stream",
     "text": [
      "Введите номер документа: 11-2\n",
      "Документ успешно удален\n"
     ]
    }
   ],
   "source": [
    "# Пункт 2. Пользователь по команде “d” может удалить документ из данных\n",
    "\n",
    "documents = [\n",
    "{'type': 'passport', 'number': '2207 876234', 'name': 'Василий Гупкин'},\n",
    "{'type': 'invoice', 'number': '11-2', 'name': 'Геннадий Покемонов'},\n",
    "{'type': 'insurance', 'number': '10006', 'name': 'Аристарх Павлов'}\n",
    "]\n",
    "\n",
    "directories = {\n",
    "'1': ['2207 876234', '11-2'],\n",
    "'2': ['10006'],\n",
    "'3': []\n",
    "}\n",
    "\n",
    "def del_doc():\n",
    "    doc_number = input('Введите номер документа: ')\n",
    "    initial_len = len(documents)\n",
    "    for i, d in enumerate(documents):\n",
    "        if d['number'] == doc_number:\n",
    "            documents.pop(i)\n",
    "\n",
    "    if initial_len == len(documents):\n",
    "        return 'Документа не существует'\n",
    "\n",
    "    for key, value in directories.items():\n",
    "        if doc_number in value:\n",
    "            value.remove(doc_number)\n",
    "\n",
    "    return 'Документ успешно удален'\n",
    "\n",
    "print(del_doc())\n"
   ]
  },
  {
   "cell_type": "code",
   "execution_count": 165,
   "metadata": {
    "scrolled": true
   },
   "outputs": [
    {
     "name": "stdout",
     "output_type": "stream",
     "text": [
      "Введите одну из команд: p, s, l, as, ds, ad, d. В случае выхода введите q \n",
      "p\n",
      "Введите номер документа:10006\n",
      "Владелец документа 10006: Аристарх Павлов\n",
      "Введите одну из команд: p, s, l, as, ds, ad, d. В случае выхода введите q \n",
      "s\n",
      "Введите номер документа: 2\n",
      "Документ не найден в базе\n",
      "Введите одну из команд: p, s, l, as, ds, ad, d. В случае выхода введите q \n",
      "ad\n",
      "Введите номер документа: 42\n",
      "Введите тип документа: passport\n",
      "Введите владельца документа: Oleg Vasin\n",
      "Введите номер полки: 1\n",
      "Документ успешно добавлен. Текущий перечень документов:\n",
      "№: 2207 876234, тип: passport, владелец: Василий Гупкин, полка хранения: 1\n",
      "№: 11-2, тип: invoice, владелец: Геннадий Покемонов, полка хранения: 1\n",
      "№: 10006, тип: insurance, владелец: Аристарх Павлов, полка хранения: 2\n",
      "№: 42, тип: passport, владелец: Oleg Vasin, полка хранения: 1 None\n",
      "Введите одну из команд: p, s, l, as, ds, ad, d. В случае выхода введите q \n",
      "q\n"
     ]
    }
   ],
   "source": [
    "while True:\n",
    "    command = input('Введите одну из команд: p, s, l, as, ds, ad, d. В случае выхода введите q \\n')\n",
    "    if command == 'p':\n",
    "        get_doc_owner_interactive()\n",
    "    elif command == 's':\n",
    "        print(get_shelf_num())\n",
    "    elif command == 'l':\n",
    "        people_list()\n",
    "    elif command == 'as':\n",
    "        add_new_shelf()\n",
    "    elif command == 'ds':\n",
    "        del_shelf()\n",
    "    elif command == 'ad':\n",
    "        add_new_doc()\n",
    "    elif command == 'd':\n",
    "        print(del_doc())\n",
    "    elif command == 'q':\n",
    "        break \n",
    "    else:\n",
    "        print('Вы ввели некорректную команду. Повторите ввод')"
   ]
  },
  {
   "cell_type": "code",
   "execution_count": null,
   "metadata": {},
   "outputs": [],
   "source": []
  },
  {
   "cell_type": "code",
   "execution_count": null,
   "metadata": {},
   "outputs": [],
   "source": []
  }
 ],
 "metadata": {
  "kernelspec": {
   "display_name": "Python 3",
   "language": "python",
   "name": "python3"
  },
  "language_info": {
   "codemirror_mode": {
    "name": "ipython",
    "version": 3
   },
   "file_extension": ".py",
   "mimetype": "text/x-python",
   "name": "python",
   "nbconvert_exporter": "python",
   "pygments_lexer": "ipython3",
   "version": "3.8.5"
  }
 },
 "nbformat": 4,
 "nbformat_minor": 4
}
